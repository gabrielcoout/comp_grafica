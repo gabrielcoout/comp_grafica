{
 "cells": [
  {
   "cell_type": "markdown",
   "id": "58d261e2",
   "metadata": {},
   "source": [
    "# Algoritmo Trigonométrico Incremental para Desenho de Círculos\n",
    "\n",
    "## Problema inicial\n",
    "Para desenhar um círculo de raio \\(R\\), os pontos podem ser descritos por:\n",
    "\n",
    "$$\n",
    "x = R \\cos(\\theta), \\quad y = R \\sin(\\theta), \\quad \\theta \\in [0, 2\\pi]\n",
    "$$\n",
    "\n",
    "Se calcularmos `sin` e `cos` diretamente para cada valor de \\(\\theta\\):\n",
    "- É **computacionalmente caro** (cada ponto exige chamada de funções trigonométricas).  \n",
    "- Se usarmos aproximações de **Taylor para \\(\\theta\\) grande**, o erro cresce e o círculo sai distorcido.  \n",
    "\n",
    "---\n",
    "\n",
    "## Alternativa\n",
    "A sacada é que não precisamos recalcular `sin` e `cos` do zero para cada ponto.  \n",
    "Podemos mudar \\((\\cos\\theta, \\sin\\theta)\\) a cada passo angular \\(\\Delta\\theta\\).\n",
    "\n",
    "As fórmulas de recorrência são:\n",
    "\n",
    "$$\n",
    "\\begin{aligned}\n",
    "\\cos(\\theta+\\Delta\\theta) &= \\cos(\\theta)\\cos(\\Delta\\theta) - \\sin(\\theta)\\sin(\\Delta\\theta) \\\\\n",
    "\\sin(\\theta+\\Delta\\theta) &= \\sin(\\theta)\\cos(\\Delta\\theta) + \\cos(\\theta)\\sin(\\Delta\\theta)\n",
    "\\end{aligned}\n",
    "$$\n",
    "\n",
    "Ou seja:\n",
    "- Se eu sei o par $(\\cos \\theta, \\sin \\theta)$, consigo calcular o próximo par com **multiplicações e somas**.  \n",
    "- Assim, calculamos `sin(Δθ)` e `cos(Δθ)` **apenas uma vez** com Taylor.  \n",
    "\n",
    "$$\n",
    "\\sin(\\Delta\\theta) \\approx \\Delta\\theta - \\frac{\\Delta\\theta^3}{3!}, \\quad\n",
    "\\cos(\\Delta\\theta) \\approx 1 - \\frac{\\Delta\\theta^2}{2!}\n",
    "$$"
   ]
  }
 ],
 "metadata": {
  "language_info": {
   "name": "python"
  }
 },
 "nbformat": 4,
 "nbformat_minor": 5
}
